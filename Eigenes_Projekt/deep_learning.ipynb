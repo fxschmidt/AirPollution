{
 "cells": [
  {
   "attachments": {},
   "cell_type": "markdown",
   "metadata": {},
   "source": [
    "Ziel: Testen eines einfachen neuronalen Netzes zur Vorhersage der AQI_Max-Werte  \n",
    "Features: die auch vorher verwendeten Features aus Predictor + CO Schadstoff-Werte + die wichtigsten Features vom Vortrag\n"
   ]
  },
  {
   "cell_type": "code",
   "execution_count": 23,
   "metadata": {},
   "outputs": [],
   "source": [
    "#Import \n",
    "import pandas as pd\n",
    "#import numpy as np\n",
    "import matplotlib.pyplot as plt\n",
    "import seaborn as sns\n",
    "import sklearn.model_selection as model_selection\n",
    "from sklearn.experimental import enable_iterative_imputer\n",
    "from sklearn.impute import IterativeImputer\n",
    "import tensorflow as tf\n",
    "from tensorflow import keras\n",
    "from tensorflow.keras import layers\n",
    "from sklearn import metrics\n"
   ]
  },
  {
   "cell_type": "code",
   "execution_count": 2,
   "metadata": {},
   "outputs": [],
   "source": [
    "#Laden der Df\n",
    "pollution = pd.read_hdf(\"Pollution_Data/pollutant_data.h5\")\n",
    "predictor = pd.read_hdf(\"Predictor_Data/all_numeric.h5\")"
   ]
  },
  {
   "cell_type": "code",
   "execution_count": 3,
   "metadata": {},
   "outputs": [
    {
     "name": "stdout",
     "output_type": "stream",
     "text": [
      "[IterativeImputer] Completing matrix with shape (4017, 28)\n",
      "[IterativeImputer] Change: 59.73678381794546, scaled tolerance: 1.317 \n",
      "[IterativeImputer] Change: 47.73176195567502, scaled tolerance: 1.317 \n",
      "[IterativeImputer] Change: 37.95243328555524, scaled tolerance: 1.317 \n",
      "[IterativeImputer] Change: 30.81696948669024, scaled tolerance: 1.317 \n",
      "[IterativeImputer] Change: 26.359113595508713, scaled tolerance: 1.317 \n",
      "[IterativeImputer] Change: 22.578683804888385, scaled tolerance: 1.317 \n",
      "[IterativeImputer] Change: 19.27970975763293, scaled tolerance: 1.317 \n",
      "[IterativeImputer] Change: 16.372814289929043, scaled tolerance: 1.317 \n",
      "[IterativeImputer] Change: 13.829716730189459, scaled tolerance: 1.317 \n",
      "[IterativeImputer] Change: 11.626324748483903, scaled tolerance: 1.317 \n",
      "[IterativeImputer] Change: 9.735412277065546, scaled tolerance: 1.317 \n",
      "[IterativeImputer] Change: 8.123406958029445, scaled tolerance: 1.317 \n",
      "[IterativeImputer] Change: 6.75585642118407, scaled tolerance: 1.317 \n",
      "[IterativeImputer] Change: 5.5997963067793135, scaled tolerance: 1.317 \n",
      "[IterativeImputer] Change: 4.625083047548582, scaled tolerance: 1.317 \n",
      "[IterativeImputer] Change: 3.8049189594778685, scaled tolerance: 1.317 \n",
      "[IterativeImputer] Change: 3.1158991161595946, scaled tolerance: 1.317 \n",
      "[IterativeImputer] Change: 2.537821479815027, scaled tolerance: 1.317 \n",
      "[IterativeImputer] Change: 2.0534745638822036, scaled tolerance: 1.317 \n",
      "[IterativeImputer] Change: 1.6481225901492245, scaled tolerance: 1.317 \n",
      "[IterativeImputer] Change: 1.3090798790473717, scaled tolerance: 1.317 \n",
      "[IterativeImputer] Early stopping criterion reached.\n",
      "<class 'pandas.core.frame.DataFrame'>\n",
      "DatetimeIndex: 3861 entries, 2010-01-01 to 2022-09-30\n",
      "Data columns (total 31 columns):\n",
      " #   Column                Non-Null Count  Dtype   \n",
      "---  ------                --------------  -----   \n",
      " 0   mean_wind_speed       3861 non-null   float64 \n",
      " 1   max_value_wind_speed  3861 non-null   float64 \n",
      " 2   max_hour_wind_speed   3861 non-null   float64 \n",
      " 3   mean_temp             3861 non-null   float64 \n",
      " 4   max_value_temp        3861 non-null   float64 \n",
      " 5   max_hour_temp         3861 non-null   float64 \n",
      " 6   mean_humidity         3861 non-null   float64 \n",
      " 7   max_value_humidity    3861 non-null   float64 \n",
      " 8   max_hour_humidity     3861 non-null   float64 \n",
      " 9   mean_radiation        3861 non-null   float64 \n",
      " 10  max_value_radiation   3861 non-null   float64 \n",
      " 11  max_hour_radiation    3861 non-null   float64 \n",
      " 12  mean_pressure         3861 non-null   float64 \n",
      " 13  max_value_pressure    3861 non-null   float64 \n",
      " 14  max_hour_pressure     3861 non-null   float64 \n",
      " 15  rain                  3861 non-null   float64 \n",
      " 16  t_max                 3861 non-null   float64 \n",
      " 17  t_min                 3861 non-null   float64 \n",
      " 18  t_minmax              3861 non-null   float64 \n",
      " 19  business_day          3861 non-null   float64 \n",
      " 20  quarter_1             3861 non-null   float64 \n",
      " 21  quarter_2             3861 non-null   float64 \n",
      " 22  quarter_3             3861 non-null   float64 \n",
      " 23  quarter_4             3861 non-null   float64 \n",
      " 24  wind_north            3861 non-null   float64 \n",
      " 25  wind_south            3861 non-null   float64 \n",
      " 26  wind_east             3861 non-null   float64 \n",
      " 27  wind_west             3861 non-null   float64 \n",
      " 28  mean_co               3861 non-null   float64 \n",
      " 29  max_value_co          3861 non-null   float64 \n",
      " 30  aqi_max               3861 non-null   category\n",
      "dtypes: category(1), float64(30)\n",
      "memory usage: 939.1 KB\n"
     ]
    }
   ],
   "source": [
    "# Imputer\n",
    "predictor= pd.DataFrame(IterativeImputer(verbose=1,max_iter=30).fit_transform(predictor),columns=predictor.columns,index=predictor.index)\n",
    "all_data=predictor.join(pollution[[\"mean_co\",\"max_value_co\",\"aqi_max\"]])\n",
    "all_data.dropna(inplace=True)\n",
    "all_data.info()"
   ]
  },
  {
   "cell_type": "code",
   "execution_count": 55,
   "metadata": {},
   "outputs": [
    {
     "data": {
      "text/plain": [
       "Fair              1987\n",
       "Moderate          1363\n",
       "Poor               504\n",
       "Very Poor            7\n",
       "Extremely Poor       0\n",
       "Name: aqi_max, dtype: int64"
      ]
     },
     "execution_count": 55,
     "metadata": {},
     "output_type": "execute_result"
    }
   ],
   "source": [
    "all_data[\"aqi_max\"].value_counts()"
   ]
  },
  {
   "cell_type": "code",
   "execution_count": 58,
   "metadata": {},
   "outputs": [
    {
     "data": {
      "text/plain": [
       "Fair              1987\n",
       "Moderate          1363\n",
       "Poor               504\n",
       "Very Poor            0\n",
       "Extremely Poor       0\n",
       "Name: aqi_max, dtype: int64"
      ]
     },
     "execution_count": 58,
     "metadata": {},
     "output_type": "execute_result"
    }
   ],
   "source": [
    "'entfernen von very poor'\n",
    "\n",
    "all_data=all_data[all_data[\"aqi_max\"] != \"Very Poor\"]\n",
    "all_data[\"aqi_max\"].value_counts()"
   ]
  },
  {
   "cell_type": "code",
   "execution_count": 67,
   "metadata": {},
   "outputs": [],
   "source": [
    "aqi_labels={0:\"Fair\",1:\"Moderate\",2:\"Poor\"}\n",
    "X = all_data.drop(\"aqi_max\",axis=1)\n",
    "y = all_data[\"aqi_max\"].cat.codes\n",
    "X_train,X_test,y_train,y_test= model_selection.train_test_split(X,y)"
   ]
  },
  {
   "cell_type": "code",
   "execution_count": null,
   "metadata": {},
   "outputs": [],
   "source": []
  },
  {
   "attachments": {},
   "cell_type": "markdown",
   "metadata": {},
   "source": [
    "### Quellen: \n",
    "[Sequential Model](https://www.tensorflow.org/guide/keras/sequential_model#setup)\n",
    "[Example with Classification](https://www.tensorflow.org/tutorials/keras/classification)\n",
    "[API](https://www.tensorflow.org/api_docs/python/tf/keras/Sequential)"
   ]
  },
  {
   "attachments": {},
   "cell_type": "markdown",
   "metadata": {},
   "source": [
    "- 'SparseCategoricalCrossentropy' scheint für diesen Fall hier gut geeignet da mehrere categorical labels unterstützt werden \n",
    "- logits: the vector of raw (non-normalized) predictions that a classification model generates, which is ordinarily then passed to a normalization function. If the model is solving a multi-class classification problem, logits typically become an input to the softmax function. The softmax function then generates a vector of (normalized) probabilities with one value for each possible class. [aus Stackoverflow](https://stackoverflow.com/questions/41455101/what-is-the-meaning-of-the-word-logits-in-tensorflow). Daher also genau der Fall der hier auftritt\n",
    "- He initializer der Gewichte [analyticsvidhya](https://www.analyticsvidhya.com/blog/2021/09/a-comprehensive-guide-on-neural-networks-performance-optimization/)"
   ]
  },
  {
   "cell_type": "code",
   "execution_count": 77,
   "metadata": {},
   "outputs": [
    {
     "name": "stdout",
     "output_type": "stream",
     "text": [
      "Model: \"sequential_10\"\n",
      "_________________________________________________________________\n",
      " Layer (type)                Output Shape              Param #   \n",
      "=================================================================\n",
      " hidden_layer_0 (Dense)      (None, 65)                2015      \n",
      "                                                                 \n",
      " hidden_layer_1 (Dense)      (None, 65)                4290      \n",
      "                                                                 \n",
      " hidden_layer_2 (Dense)      (None, 65)                4290      \n",
      "                                                                 \n",
      " hidden_layer_3 (Dense)      (None, 65)                4290      \n",
      "                                                                 \n",
      " hidden_layer_4 (Dense)      (None, 65)                4290      \n",
      "                                                                 \n",
      " hidden_layer_5 (Dense)      (None, 65)                4290      \n",
      "                                                                 \n",
      " hidden_layer_6 (Dense)      (None, 65)                4290      \n",
      "                                                                 \n",
      " hidden_layer_7 (Dense)      (None, 65)                4290      \n",
      "                                                                 \n",
      " hidden_layer_8 (Dense)      (None, 65)                4290      \n",
      "                                                                 \n",
      " hidden_layer_9 (Dense)      (None, 65)                4290      \n",
      "                                                                 \n",
      " hidden_layer_10 (Dense)     (None, 65)                4290      \n",
      "                                                                 \n",
      " hidden_layer_11 (Dense)     (None, 65)                4290      \n",
      "                                                                 \n",
      " output_layer (Dense)        (None, 3)                 198       \n",
      "                                                                 \n",
      "=================================================================\n",
      "Total params: 49,403\n",
      "Trainable params: 49,403\n",
      "Non-trainable params: 0\n",
      "_________________________________________________________________\n"
     ]
    }
   ],
   "source": [
    "#create a simple neural Network\n",
    "initializer = tf.keras.initializers.HeNormal(seed=1)\n",
    "model = keras.Sequential()\n",
    "model.add(keras.Input(shape=(30,)))\n",
    "for i in range(0,12):\n",
    "    model.add(layers.Dense(65,activation=\"relu\",name=f\"hidden_layer_{i}\",kernel_initializer=initializer))\n",
    "model.add(layers.Dense(3,activation=\"softmax\",name=\"output_layer\"))\n",
    "\n",
    "model.summary()"
   ]
  },
  {
   "cell_type": "code",
   "execution_count": 78,
   "metadata": {},
   "outputs": [],
   "source": [
    "model.compile(optimizer=\"adam\",\n",
    "              loss=tf.keras.losses.SparseCategoricalCrossentropy(), # this loss function fits for 2 or more categorial labels, \n",
    "              metrics=['accuracy'])\n",
    "\n"
   ]
  },
  {
   "cell_type": "code",
   "execution_count": 79,
   "metadata": {},
   "outputs": [
    {
     "name": "stdout",
     "output_type": "stream",
     "text": [
      "Epoch 1/5\n",
      "91/91 [==============================] - 8s 52ms/step - loss: 17.9666 - accuracy: 0.4401\n",
      "Epoch 2/5\n",
      "91/91 [==============================] - 4s 49ms/step - loss: 2.3126 - accuracy: 0.4723\n",
      "Epoch 3/5\n",
      "91/91 [==============================] - 6s 66ms/step - loss: 2.1527 - accuracy: 0.4564\n",
      "Epoch 4/5\n",
      "91/91 [==============================] - 6s 65ms/step - loss: 1.6577 - accuracy: 0.4841\n",
      "Epoch 5/5\n",
      "91/91 [==============================] - 6s 62ms/step - loss: 1.1367 - accuracy: 0.5187\n"
     ]
    },
    {
     "data": {
      "text/plain": [
       "<keras.callbacks.History at 0x7fbdb95a6e30>"
      ]
     },
     "execution_count": 79,
     "metadata": {},
     "output_type": "execute_result"
    }
   ],
   "source": [
    "model.fit(X_train, y_train, epochs=3600,use_multiprocessing=True)"
   ]
  },
  {
   "cell_type": "code",
   "execution_count": 71,
   "metadata": {},
   "outputs": [
    {
     "name": "stdout",
     "output_type": "stream",
     "text": [
      "31/31 - 2s - loss: 0.9167 - accuracy: 0.5270 - 2s/epoch - 57ms/step\n"
     ]
    }
   ],
   "source": [
    "test_loss, test_acc = model.evaluate(X_test,  y_test, verbose=2)"
   ]
  },
  {
   "cell_type": "code",
   "execution_count": 81,
   "metadata": {},
   "outputs": [
    {
     "name": "stdout",
     "output_type": "stream",
     "text": [
      "INFO:tensorflow:Assets written to: keras_models/model/assets\n"
     ]
    }
   ],
   "source": [
    "name=\"model\"\n",
    "model.save(f\"keras_models/{name}\")"
   ]
  },
  {
   "cell_type": "code",
   "execution_count": 72,
   "metadata": {},
   "outputs": [
    {
     "name": "stdout",
     "output_type": "stream",
     "text": [
      "31/31 [==============================] - 1s 33ms/step\n",
      "Test Score of the Models\n",
      "score of the model: 0.52697\n",
      "balanced score of the model: 0.37628\n",
      "f1 score of the model: 0.45284\n"
     ]
    },
    {
     "data": {
      "text/plain": [
       "<sklearn.metrics._plot.confusion_matrix.ConfusionMatrixDisplay at 0x7fbdfa8527a0>"
      ]
     },
     "execution_count": 72,
     "metadata": {},
     "output_type": "execute_result"
    },
    {
     "data": {
      "image/png": "[encoded data removed]",
      "text/plain": [
       "<Figure size 640x480 with 2 Axes>"
      ]
     },
     "metadata": {},
     "output_type": "display_data"
    }
   ],
   "source": [
    "y_predict=model.predict(X_test).argmax(axis=1)\n",
    "y_predict_cat=pd.Series(y_predict).map(aqi_labels)\n",
    "y_test_cat=pd.Series(y_test).map(aqi_labels)\n",
    "\n",
    "'Test Score'\n",
    "print(\"Test Score of the Models\")\n",
    "accuracy_test=metrics.accuracy_score(y_test,y_predict)\n",
    "print(f\"score of the model: {round(accuracy_test,5)}\")\n",
    "balanced_accuracy_test=metrics.balanced_accuracy_score(y_test,y_predict)\n",
    "print(f\"balanced score of the model: {round(balanced_accuracy_test,5)}\")\n",
    "f1_test=metrics.f1_score(y_test,y_predict,average=\"weighted\")\n",
    "print(f\"f1 score of the model: {round(f1_test,5)}\")\n",
    "\n",
    "cm=metrics.confusion_matrix(y_true=y_test_cat,y_pred=y_predict_cat,labels=list(aqi_labels.values()),normalize=\"true\")\n",
    "disp = metrics.ConfusionMatrixDisplay(cm,display_labels=list(aqi_labels.values()))\n",
    "disp.plot()"
   ]
  },
  {
   "cell_type": "code",
   "execution_count": 66,
   "metadata": {},
   "outputs": [
    {
     "name": "stdout",
     "output_type": "stream",
     "text": [
      "31/31 [==============================] - 1s 24ms/step\n"
     ]
    },
    {
     "data": {
      "text/plain": [
       "1    525\n",
       "0    414\n",
       "2     25\n",
       "dtype: int64"
      ]
     },
     "execution_count": 66,
     "metadata": {},
     "output_type": "execute_result"
    }
   ],
   "source": [
    "y_predict=model.predict(X_test).argmax(axis=1)\n",
    "pd.Series(y_predict).value_counts()"
   ]
  },
  {
   "cell_type": "code",
   "execution_count": 43,
   "metadata": {},
   "outputs": [
    {
     "data": {
      "text/plain": [
       "['Good', 'Fair', 'Moderate', 'Poor', 'Very Poor']"
      ]
     },
     "execution_count": 43,
     "metadata": {},
     "output_type": "execute_result"
    }
   ],
   "source": [
    "list(aqi_labels.values())\n"
   ]
  }
 ],
 "metadata": {
  "kernelspec": {
   "display_name": "datascience_env",
   "language": "python",
   "name": "python3"
  },
  "language_info": {
   "codemirror_mode": {
    "name": "ipython",
    "version": 3
   },
   "file_extension": ".py",
   "mimetype": "text/x-python",
   "name": "python",
   "nbconvert_exporter": "python",
   "pygments_lexer": "ipython3",
   "version": "3.10.8"
  },
  "orig_nbformat": 4,
  "vscode": {
   "interpreter": {
    "hash": "b517bc09ca3e5b2d142caefc775ac36c20e1e828ca41527de4fb544cbf1d80bd"
   }
  }
 },
 "nbformat": 4,
 "nbformat_minor": 2
}
