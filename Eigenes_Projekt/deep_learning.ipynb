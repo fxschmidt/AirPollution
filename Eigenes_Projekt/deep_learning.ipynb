{
 "cells": [
  {
   "attachments": {},
   "cell_type": "markdown",
   "metadata": {},
   "source": [
    "Ziel: Testen eines einfachen neuronalen Netzes zur Vorhersage der AQI_Max-Werte  \n",
    "Features: die auch vorher verwendeten Features aus Predictor + CO Schadstoff-Werte + die wichtigsten Features vom Vortrag\n"
   ]
  },
  {
   "cell_type": "code",
   "execution_count": 23,
   "metadata": {},
   "outputs": [],
   "source": [
    "#Import \n",
    "import pandas as pd\n",
    "#import numpy as np\n",
    "import matplotlib.pyplot as plt\n",
    "import seaborn as sns\n",
    "import sklearn.model_selection as model_selection\n",
    "from sklearn.experimental import enable_iterative_imputer\n",
    "from sklearn.impute import IterativeImputer\n",
    "import tensorflow as tf\n",
    "from tensorflow import keras\n",
    "from tensorflow.keras import layers\n",
    "from sklearn import metrics\n"
   ]
  },
  {
   "cell_type": "code",
   "execution_count": 2,
   "metadata": {},
   "outputs": [],
   "source": [
    "#Laden der Df\n",
    "pollution = pd.read_hdf(\"Pollution_Data/pollutant_data.h5\")\n",
    "predictor = pd.read_hdf(\"Predictor_Data/all_numeric.h5\")"
   ]
  },
  {
   "cell_type": "code",
   "execution_count": 3,
   "metadata": {},
   "outputs": [
    {
     "name": "stdout",
     "output_type": "stream",
     "text": [
      "[IterativeImputer] Completing matrix with shape (4017, 28)\n",
      "[IterativeImputer] Change: 59.73678381794546, scaled tolerance: 1.317 \n",
      "[IterativeImputer] Change: 47.73176195567502, scaled tolerance: 1.317 \n",
      "[IterativeImputer] Change: 37.95243328555524, scaled tolerance: 1.317 \n",
      "[IterativeImputer] Change: 30.81696948669024, scaled tolerance: 1.317 \n",
      "[IterativeImputer] Change: 26.359113595508713, scaled tolerance: 1.317 \n",
      "[IterativeImputer] Change: 22.578683804888385, scaled tolerance: 1.317 \n",
      "[IterativeImputer] Change: 19.27970975763293, scaled tolerance: 1.317 \n",
      "[IterativeImputer] Change: 16.372814289929043, scaled tolerance: 1.317 \n",
      "[IterativeImputer] Change: 13.829716730189459, scaled tolerance: 1.317 \n",
      "[IterativeImputer] Change: 11.626324748483903, scaled tolerance: 1.317 \n",
      "[IterativeImputer] Change: 9.735412277065546, scaled tolerance: 1.317 \n",
      "[IterativeImputer] Change: 8.123406958029445, scaled tolerance: 1.317 \n",
      "[IterativeImputer] Change: 6.75585642118407, scaled tolerance: 1.317 \n",
      "[IterativeImputer] Change: 5.5997963067793135, scaled tolerance: 1.317 \n",
      "[IterativeImputer] Change: 4.625083047548582, scaled tolerance: 1.317 \n",
      "[IterativeImputer] Change: 3.8049189594778685, scaled tolerance: 1.317 \n",
      "[IterativeImputer] Change: 3.1158991161595946, scaled tolerance: 1.317 \n",
      "[IterativeImputer] Change: 2.537821479815027, scaled tolerance: 1.317 \n",
      "[IterativeImputer] Change: 2.0534745638822036, scaled tolerance: 1.317 \n",
      "[IterativeImputer] Change: 1.6481225901492245, scaled tolerance: 1.317 \n",
      "[IterativeImputer] Change: 1.3090798790473717, scaled tolerance: 1.317 \n",
      "[IterativeImputer] Early stopping criterion reached.\n",
      "<class 'pandas.core.frame.DataFrame'>\n",
      "DatetimeIndex: 3861 entries, 2010-01-01 to 2022-09-30\n",
      "Data columns (total 31 columns):\n",
      " #   Column                Non-Null Count  Dtype   \n",
      "---  ------                --------------  -----   \n",
      " 0   mean_wind_speed       3861 non-null   float64 \n",
      " 1   max_value_wind_speed  3861 non-null   float64 \n",
      " 2   max_hour_wind_speed   3861 non-null   float64 \n",
      " 3   mean_temp             3861 non-null   float64 \n",
      " 4   max_value_temp        3861 non-null   float64 \n",
      " 5   max_hour_temp         3861 non-null   float64 \n",
      " 6   mean_humidity         3861 non-null   float64 \n",
      " 7   max_value_humidity    3861 non-null   float64 \n",
      " 8   max_hour_humidity     3861 non-null   float64 \n",
      " 9   mean_radiation        3861 non-null   float64 \n",
      " 10  max_value_radiation   3861 non-null   float64 \n",
      " 11  max_hour_radiation    3861 non-null   float64 \n",
      " 12  mean_pressure         3861 non-null   float64 \n",
      " 13  max_value_pressure    3861 non-null   float64 \n",
      " 14  max_hour_pressure     3861 non-null   float64 \n",
      " 15  rain                  3861 non-null   float64 \n",
      " 16  t_max                 3861 non-null   float64 \n",
      " 17  t_min                 3861 non-null   float64 \n",
      " 18  t_minmax              3861 non-null   float64 \n",
      " 19  business_day          3861 non-null   float64 \n",
      " 20  quarter_1             3861 non-null   float64 \n",
      " 21  quarter_2             3861 non-null   float64 \n",
      " 22  quarter_3             3861 non-null   float64 \n",
      " 23  quarter_4             3861 non-null   float64 \n",
      " 24  wind_north            3861 non-null   float64 \n",
      " 25  wind_south            3861 non-null   float64 \n",
      " 26  wind_east             3861 non-null   float64 \n",
      " 27  wind_west             3861 non-null   float64 \n",
      " 28  mean_co               3861 non-null   float64 \n",
      " 29  max_value_co          3861 non-null   float64 \n",
      " 30  aqi_max               3861 non-null   category\n",
      "dtypes: category(1), float64(30)\n",
      "memory usage: 939.1 KB\n"
     ]
    }
   ],
   "source": [
    "# Imputer\n",
    "predictor= pd.DataFrame(IterativeImputer(verbose=1,max_iter=30).fit_transform(predictor),columns=predictor.columns,index=predictor.index)\n",
    "all_data=predictor.join(pollution[[\"mean_co\",\"max_value_co\",\"aqi_max\"]])\n",
    "all_data.dropna(inplace=True)\n",
    "all_data.info()"
   ]
  },
  {
   "cell_type": "code",
   "execution_count": 55,
   "metadata": {},
   "outputs": [
    {
     "data": {
      "text/plain": [
       "Fair              1987\n",
       "Moderate          1363\n",
       "Poor               504\n",
       "Very Poor            7\n",
       "Extremely Poor       0\n",
       "Name: aqi_max, dtype: int64"
      ]
     },
     "execution_count": 55,
     "metadata": {},
     "output_type": "execute_result"
    }
   ],
   "source": [
    "all_data[\"aqi_max\"].value_counts()"
   ]
  },
  {
   "cell_type": "code",
   "execution_count": 58,
   "metadata": {},
   "outputs": [
    {
     "data": {
      "text/plain": [
       "Fair              1987\n",
       "Moderate          1363\n",
       "Poor               504\n",
       "Very Poor            0\n",
       "Extremely Poor       0\n",
       "Name: aqi_max, dtype: int64"
      ]
     },
     "execution_count": 58,
     "metadata": {},
     "output_type": "execute_result"
    }
   ],
   "source": [
    "'entfernen von very poor'\n",
    "\n",
    "all_data=all_data[all_data[\"aqi_max\"] != \"Very Poor\"]\n",
    "all_data[\"aqi_max\"].value_counts()"
   ]
  },
  {
   "cell_type": "code",
   "execution_count": 67,
   "metadata": {},
   "outputs": [],
   "source": [
    "aqi_labels={0:\"Fair\",1:\"Moderate\",2:\"Poor\"}\n",
    "X = all_data.drop(\"aqi_max\",axis=1)\n",
    "y = all_data[\"aqi_max\"].cat.codes\n",
    "X_train,X_test,y_train,y_test= model_selection.train_test_split(X,y)"
   ]
  },
  {
   "attachments": {},
   "cell_type": "markdown",
   "metadata": {},
   "source": [
    "### Quellen: \n",
    "[Sequential Model](https://www.tensorflow.org/guide/keras/sequential_model#setup)\n",
    "[Example with Classification](https://www.tensorflow.org/tutorials/keras/classification)\n",
    "[API](https://www.tensorflow.org/api_docs/python/tf/keras/Sequential)"
   ]
  },
  {
   "attachments": {},
   "cell_type": "markdown",
   "metadata": {},
   "source": [
    "- 'SparseCategoricalCrossentropy' scheint für diesen Fall hier gut geeignet da mehrere categorical labels unterstützt werden \n",
    "- logits: the vector of raw (non-normalized) predictions that a classification model generates, which is ordinarily then passed to a normalization function. If the model is solving a multi-class classification problem, logits typically become an input to the softmax function. The softmax function then generates a vector of (normalized) probabilities with one value for each possible class. [aus Stackoverflow](https://stackoverflow.com/questions/41455101/what-is-the-meaning-of-the-word-logits-in-tensorflow). Daher also genau der Fall der hier auftritt\n",
    "- He initializer der Gewichte [analyticsvidhya](https://www.analyticsvidhya.com/blog/2021/09/a-comprehensive-guide-on-neural-networks-performance-optimization/)"
   ]
  },
  {
   "cell_type": "code",
   "execution_count": 154,
   "metadata": {},
   "outputs": [
    {
     "name": "stdout",
     "output_type": "stream",
     "text": [
      "Model: \"sequential_21\"\n",
      "_________________________________________________________________\n",
      " Layer (type)                Output Shape              Param #   \n",
      "=================================================================\n",
      " hidden_layer_0 (Dense)      (None, 55)                1705      \n",
      "                                                                 \n",
      " hidden_layer_1 (Dense)      (None, 55)                3080      \n",
      "                                                                 \n",
      " hidden_layer_-3 (Dense)     (None, 40)                2240      \n",
      "                                                                 \n",
      " hidden_layer_-2 (Dense)     (None, 40)                1640      \n",
      "                                                                 \n",
      " output_layer (Dense)        (None, 3)                 123       \n",
      "                                                                 \n",
      "=================================================================\n",
      "Total params: 8,788\n",
      "Trainable params: 8,788\n",
      "Non-trainable params: 0\n",
      "_________________________________________________________________\n"
     ]
    }
   ],
   "source": [
    "#create a simple neural Network\n",
    "initializer = tf.keras.initializers.HeNormal(seed=3)\n",
    "model = keras.Sequential()\n",
    "model.add(keras.Input(shape=(30,)))\n",
    "for i in range(2):\n",
    "    model.add(layers.Dense(55,activation=\"relu\",name=f\"hidden_layer_{i}\",kernel_initializer=initializer))\n",
    "\n",
    "model.add(layers.Dense(40,activation=\"relu\",name=f\"hidden_layer_-3\",kernel_initializer=initializer))\n",
    "model.add(layers.Dense(40,activation=\"relu\",name=f\"hidden_layer_-2\",kernel_initializer=initializer))\n",
    "\n",
    "model.add(layers.Dense(3,activation=\"softmax\",name=\"output_layer\"))\n",
    "\n",
    "model.summary()"
   ]
  },
  {
   "cell_type": "code",
   "execution_count": 155,
   "metadata": {},
   "outputs": [],
   "source": [
    "model.compile(optimizer=\"adam\",\n",
    "              loss=tf.keras.losses.SparseCategoricalCrossentropy(), # this loss function fits for 2 or more categorial labels, \n",
    "              metrics=['accuracy',\"sparse_categorical_crossentropy\",\"mean_squared_error\"])\n",
    "\n"
   ]
  },
  {
   "cell_type": "code",
   "execution_count": 158,
   "metadata": {},
   "outputs": [
    {
     "name": "stdout",
     "output_type": "stream",
     "text": [
      "Epoch 1/10\n",
      "91/91 [==============================] - 3s 33ms/step - loss: 1.9875 - accuracy: 0.5059 - sparse_categorical_crossentropy: 1.9875 - mean_squared_error: 0.7268\n",
      "Epoch 2/10\n",
      "91/91 [==============================] - 3s 33ms/step - loss: 2.0198 - accuracy: 0.5038 - sparse_categorical_crossentropy: 2.0198 - mean_squared_error: 0.7274\n",
      "Epoch 3/10\n",
      "91/91 [==============================] - 2s 27ms/step - loss: 2.3712 - accuracy: 0.4841 - sparse_categorical_crossentropy: 2.3712 - mean_squared_error: 0.7376\n",
      "Epoch 4/10\n",
      "91/91 [==============================] - 3s 32ms/step - loss: 1.8924 - accuracy: 0.5176 - sparse_categorical_crossentropy: 1.8924 - mean_squared_error: 0.7233\n",
      "Epoch 5/10\n",
      "91/91 [==============================] - 3s 30ms/step - loss: 1.6328 - accuracy: 0.5183 - sparse_categorical_crossentropy: 1.6328 - mean_squared_error: 0.7184\n",
      "Epoch 6/10\n",
      "91/91 [==============================] - 3s 33ms/step - loss: 1.5271 - accuracy: 0.5349 - sparse_categorical_crossentropy: 1.5271 - mean_squared_error: 0.7150\n",
      "Epoch 7/10\n",
      "91/91 [==============================] - 3s 34ms/step - loss: 1.4080 - accuracy: 0.5336 - sparse_categorical_crossentropy: 1.4080 - mean_squared_error: 0.7103\n",
      "Epoch 8/10\n",
      "91/91 [==============================] - 3s 27ms/step - loss: 1.5229 - accuracy: 0.5343 - sparse_categorical_crossentropy: 1.5229 - mean_squared_error: 0.7145\n",
      "Epoch 9/10\n",
      "91/91 [==============================] - 3s 31ms/step - loss: 1.8507 - accuracy: 0.5104 - sparse_categorical_crossentropy: 1.8507 - mean_squared_error: 0.7293\n",
      "Epoch 10/10\n",
      "91/91 [==============================] - 3s 29ms/step - loss: 1.6504 - accuracy: 0.5228 - sparse_categorical_crossentropy: 1.6504 - mean_squared_error: 0.7233\n"
     ]
    }
   ],
   "source": [
    "hist=model.fit(X_train, y_train, epochs=10,use_multiprocessing=True,batch_size=32)"
   ]
  },
  {
   "cell_type": "code",
   "execution_count": 106,
   "metadata": {},
   "outputs": [
    {
     "name": "stdout",
     "output_type": "stream",
     "text": [
      "31/31 - 1s - loss: 0.7722 - accuracy: 0.6349 - categorical_accuracy: 0.5332 - 1s/epoch - 40ms/step\n"
     ]
    },
    {
     "ename": "ValueError",
     "evalue": "too many values to unpack (expected 2)",
     "output_type": "error",
     "traceback": [
      "\u001b[0;31m---------------------------------------------------------------------------\u001b[0m",
      "\u001b[0;31mValueError\u001b[0m                                Traceback (most recent call last)",
      "Cell \u001b[0;32mIn[106], line 1\u001b[0m\n\u001b[0;32m----> 1\u001b[0m test_loss, test_acc \u001b[39m=\u001b[39m model\u001b[39m.\u001b[39mevaluate(X_test,  y_test, verbose\u001b[39m=\u001b[39m\u001b[39m2\u001b[39m)\n",
      "\u001b[0;31mValueError\u001b[0m: too many values to unpack (expected 2)"
     ]
    }
   ],
   "source": [
    "test_loss, test_acc = model.evaluate(X_test,  y_test, verbose=2)"
   ]
  },
  {
   "cell_type": "code",
   "execution_count": 107,
   "metadata": {},
   "outputs": [
    {
     "name": "stdout",
     "output_type": "stream",
     "text": [
      "INFO:tensorflow:Assets written to: keras_models/model_13layers_10_epochs/assets\n"
     ]
    }
   ],
   "source": [
    "name=\"model_13layers_10_epochs\"\n",
    "model.save(f\"keras_models/{name}\")"
   ]
  },
  {
   "cell_type": "code",
   "execution_count": 159,
   "metadata": {},
   "outputs": [
    {
     "name": "stdout",
     "output_type": "stream",
     "text": [
      "31/31 [==============================] - 1s 20ms/step\n",
      "Test Score of the Models\n",
      "score of the model: 0.54149\n",
      "balanced score of the model: 0.41998\n",
      "f1 score of the model: 0.51612\n"
     ]
    },
    {
     "data": {
      "text/plain": [
       "<sklearn.metrics._plot.confusion_matrix.ConfusionMatrixDisplay at 0x7fbda83e69e0>"
      ]
     },
     "execution_count": 159,
     "metadata": {},
     "output_type": "execute_result"
    },
    {
     "data": {
      "image/png": "[encoded data removed]",
      "text/plain": [
       "<Figure size 640x480 with 2 Axes>"
      ]
     },
     "metadata": {},
     "output_type": "display_data"
    }
   ],
   "source": [
    "y_predict=model.predict(X_test).argmax(axis=1)\n",
    "y_predict_cat=pd.Series(y_predict).map(aqi_labels)\n",
    "y_test_cat=pd.Series(y_test).map(aqi_labels)\n",
    "\n",
    "'Test Score'\n",
    "print(\"Test Score of the Models\")\n",
    "accuracy_test=metrics.accuracy_score(y_test,y_predict)\n",
    "print(f\"score of the model: {round(accuracy_test,5)}\")\n",
    "balanced_accuracy_test=metrics.balanced_accuracy_score(y_test,y_predict)\n",
    "print(f\"balanced score of the model: {round(balanced_accuracy_test,5)}\")\n",
    "f1_test=metrics.f1_score(y_test,y_predict,average=\"weighted\")\n",
    "print(f\"f1 score of the model: {round(f1_test,5)}\")\n",
    "\n",
    "cm=metrics.confusion_matrix(y_true=y_test_cat,y_pred=y_predict_cat,labels=list(aqi_labels.values()),normalize=\"true\")\n",
    "disp = metrics.ConfusionMatrixDisplay(cm,display_labels=list(aqi_labels.values()))\n",
    "disp.plot()"
   ]
  },
  {
   "cell_type": "code",
   "execution_count": 141,
   "metadata": {},
   "outputs": [
    {
     "data": {
      "text/plain": [
       "[<matplotlib.lines.Line2D at 0x7fbda77339a0>]"
      ]
     },
     "execution_count": 141,
     "metadata": {},
     "output_type": "execute_result"
    },
    {
     "data": {
      "image/png": "[encoded data removed]",
      "text/plain": [
       "<Figure size 640x480 with 1 Axes>"
      ]
     },
     "metadata": {},
     "output_type": "display_data"
    }
   ],
   "source": [
    "plt.plot(hist.history[\"sparse_categorical_crossentropy\"])"
   ]
  },
  {
   "cell_type": "code",
   "execution_count": 43,
   "metadata": {},
   "outputs": [
    {
     "data": {
      "text/plain": [
       "['Good', 'Fair', 'Moderate', 'Poor', 'Very Poor']"
      ]
     },
     "execution_count": 43,
     "metadata": {},
     "output_type": "execute_result"
    }
   ],
   "source": [
    "list(aqi_labels.values())\n"
   ]
  }
 ],
 "metadata": {
  "kernelspec": {
   "display_name": "datascience_env",
   "language": "python",
   "name": "python3"
  },
  "language_info": {
   "codemirror_mode": {
    "name": "ipython",
    "version": 3
   },
   "file_extension": ".py",
   "mimetype": "text/x-python",
   "name": "python",
   "nbconvert_exporter": "python",
   "pygments_lexer": "ipython3",
   "version": "3.10.8"
  },
  "orig_nbformat": 4,
  "vscode": {
   "interpreter": {
    "hash": "b517bc09ca3e5b2d142caefc775ac36c20e1e828ca41527de4fb544cbf1d80bd"
   }
  }
 },
 "nbformat": 4,
 "nbformat_minor": 2
}
