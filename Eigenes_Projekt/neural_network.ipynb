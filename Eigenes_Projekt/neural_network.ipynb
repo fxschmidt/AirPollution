{
 "cells": [
  {
   "attachments": {},
   "cell_type": "markdown",
   "metadata": {},
   "source": [
    "# Training eines neuronalen Netzes\n",
    "- Ziel: Testen eines einfachen neuronalen Netzes zur Vorhersage der AQI_NO2-Werte  \n",
    "- Features: die auch vorher verwendeten Features bei der Vorhersage von AQI_No2 mit GBC (Kalender ohne Monate,Meterologische Features ohne Strahlung und Druck, Konzentrationen der anderen Schadstoffe)\n",
    "- Für das neuronale Netz wird tensorflow.keras verwendet, welches in diesem Bereich üblicher ist als sklearn (da z.B. auch GPU Unterstützung)"
   ]
  },
  {
   "cell_type": "code",
   "execution_count": 1,
   "metadata": {},
   "outputs": [
    {
     "name": "stderr",
     "output_type": "stream",
     "text": [
      "2023-01-25 14:20:31.635861: I tensorflow/core/platform/cpu_feature_guard.cc:193] This TensorFlow binary is optimized with oneAPI Deep Neural Network Library (oneDNN) to use the following CPU instructions in performance-critical operations:  SSE4.1 SSE4.2\n",
      "To enable them in other operations, rebuild TensorFlow with the appropriate compiler flags.\n"
     ]
    }
   ],
   "source": [
    "#Import \n",
    "import pandas as pd\n",
    "#import numpy as np\n",
    "import matplotlib.pyplot as plt\n",
    "import seaborn as sns\n",
    "import sklearn.model_selection as model_selection\n",
    "from sklearn.experimental import enable_iterative_imputer\n",
    "from sklearn.preprocessing import MinMaxScaler\n",
    "import tensorflow as tf\n",
    "from tensorflow import keras\n",
    "from tensorflow.keras import layers\n",
    "from sklearn import metrics\n",
    "\n",
    "aqi_labels={0:\"Good\",1:\"Fair\",2:\"Moderate\",3:\"Poor\"}"
   ]
  },
  {
   "attachments": {},
   "cell_type": "markdown",
   "metadata": {},
   "source": [
    "## Datenvorbereitung"
   ]
  },
  {
   "cell_type": "code",
   "execution_count": 32,
   "metadata": {},
   "outputs": [
    {
     "data": {
      "text/plain": [
       "Index(['day_1', 'day_2', 'day_3', 'day_4', 'day_5', 'day_6', 'day_7',\n",
       "       'businness_day', 'PRCP', 'TMAX', 'TMIN', 'AWND', 'WSF2', 't_minmax',\n",
       "       'mean_temp', 'max_value_temp', 'mean_humidity', 'max_value_humidity',\n",
       "       'wind_north', 'wind_south', 'wind_east', 'wind_west', 'mean_co',\n",
       "       'max_value_co', 'mean_so2', 'max_value_so2', 'mean_no2',\n",
       "       'max_value_no2', 'mean_o3', 'max_value_o3', 'mean_pm2_5', 'aqi_pm2_5',\n",
       "       'aqi_so2', 'aqi_no2', 'aqi_o3', 'aqi_max'],\n",
       "      dtype='object')"
      ]
     },
     "execution_count": 32,
     "metadata": {},
     "output_type": "execute_result"
    }
   ],
   "source": [
    "#Laden der Df\n",
    "predictor_neural_network = pd.read_hdf(\"Predictor_Data/neural_network_data.h5\").drop(['month_1', 'month_2', 'month_3', 'month_4', 'month_5', 'month_6',\n",
    "       'month_7', 'month_8', 'month_9', 'month_10', 'month_11', 'month_12'],axis=1)\n",
    "predictor_neural_network.columns"
   ]
  },
  {
   "cell_type": "code",
   "execution_count": 34,
   "metadata": {},
   "outputs": [
    {
     "data": {
      "text/plain": [
       "Fair              3145\n",
       "Moderate          1108\n",
       "Poor               531\n",
       "Good               372\n",
       "Very Poor           18\n",
       "Extremely Poor       0\n",
       "Name: aqi_no2, dtype: int64"
      ]
     },
     "execution_count": 34,
     "metadata": {},
     "output_type": "execute_result"
    }
   ],
   "source": [
    "'Drop unncessacary columns and dropna rows'\n",
    "predictor_neural_network=predictor_neural_network.drop([ 'aqi_pm2_5',\n",
    "       'aqi_so2', 'aqi_o3', 'aqi_max', 'mean_no2',\"max_value_no2\"],axis=1)\n",
    "all_data=predictor_neural_network.dropna()\n",
    "all_data[\"aqi_no2\"].value_counts()"
   ]
  },
  {
   "cell_type": "code",
   "execution_count": 35,
   "metadata": {},
   "outputs": [],
   "source": [
    "'drop rows with Very Poor AQI NO2'\n",
    "all_data=all_data[all_data[\"aqi_no2\"] != \"Very Poor\"]"
   ]
  },
  {
   "cell_type": "code",
   "execution_count": 36,
   "metadata": {},
   "outputs": [
    {
     "name": "stdout",
     "output_type": "stream",
     "text": [
      "<class 'pandas.core.frame.DataFrame'>\n",
      "DatetimeIndex: 3867 entries, 2015-12-24 to 2018-11-24\n",
      "Data columns (total 29 columns):\n",
      " #   Column              Non-Null Count  Dtype  \n",
      "---  ------              --------------  -----  \n",
      " 0   day_1               3867 non-null   float64\n",
      " 1   day_2               3867 non-null   float64\n",
      " 2   day_3               3867 non-null   float64\n",
      " 3   day_4               3867 non-null   float64\n",
      " 4   day_5               3867 non-null   float64\n",
      " 5   day_6               3867 non-null   float64\n",
      " 6   day_7               3867 non-null   float64\n",
      " 7   businness_day       3867 non-null   float64\n",
      " 8   PRCP                3867 non-null   float64\n",
      " 9   TMAX                3867 non-null   float64\n",
      " 10  TMIN                3867 non-null   float64\n",
      " 11  AWND                3867 non-null   float64\n",
      " 12  WSF2                3867 non-null   float64\n",
      " 13  t_minmax            3867 non-null   float64\n",
      " 14  mean_temp           3867 non-null   float64\n",
      " 15  max_value_temp      3867 non-null   float64\n",
      " 16  mean_humidity       3867 non-null   float64\n",
      " 17  max_value_humidity  3867 non-null   float64\n",
      " 18  wind_north          3867 non-null   float64\n",
      " 19  wind_south          3867 non-null   float64\n",
      " 20  wind_east           3867 non-null   float64\n",
      " 21  wind_west           3867 non-null   float64\n",
      " 22  mean_co             3867 non-null   float64\n",
      " 23  max_value_co        3867 non-null   float64\n",
      " 24  mean_so2            3867 non-null   float64\n",
      " 25  max_value_so2       3867 non-null   float64\n",
      " 26  mean_o3             3867 non-null   float64\n",
      " 27  max_value_o3        3867 non-null   float64\n",
      " 28  mean_pm2_5          3867 non-null   float64\n",
      "dtypes: float64(29)\n",
      "memory usage: 906.3 KB\n"
     ]
    }
   ],
   "source": [
    "\n",
    "X = all_data.drop(\"aqi_no2\",axis=1)\n",
    "X[X.columns] = MinMaxScaler().fit_transform(X)\n",
    "y = all_data[\"aqi_no2\"].cat.codes\n",
    "X_train,X_test,y_train,y_test= model_selection.train_test_split(X,y)\n",
    "X_train.info()"
   ]
  },
  {
   "cell_type": "code",
   "execution_count": 37,
   "metadata": {},
   "outputs": [
    {
     "data": {
      "text/plain": [
       "1    2365\n",
       "2     829\n",
       "3     393\n",
       "0     280\n",
       "dtype: int64"
      ]
     },
     "execution_count": 37,
     "metadata": {},
     "output_type": "execute_result"
    }
   ],
   "source": [
    "y_train.value_counts()"
   ]
  },
  {
   "attachments": {},
   "cell_type": "markdown",
   "metadata": {},
   "source": [
    "## Quellen: \n",
    "[Sequential Model](https://www.tensorflow.org/guide/keras/sequential_model#setup), \n",
    "[Example with Classification](https://www.tensorflow.org/tutorials/keras/classification), \n",
    "[API](https://www.tensorflow.org/api_docs/python/tf/keras/Sequential)\n",
    "\n",
    "## Erläuterungen zur Auswahl einiger Komponenten\n",
    "\n",
    "- 'SparseCategoricalCrossentropy' scheint für diesen Fall hier gut geeignet zu sein, da mehrere kategorische Labels unterstützt werden.\n",
    "- 'relu' ist eine häufig gewählte Aktivierungsfunktion: $ f(x) = max(0,x)$ \n",
    "- He initializer der Gewichte [analyticsvidhya](https://www.analyticsvidhya.com/blog/2021/09/a-comprehensive-guide-on-neural-networks-performance-optimization/)"
   ]
  },
  {
   "cell_type": "code",
   "execution_count": 64,
   "metadata": {},
   "outputs": [
    {
     "name": "stdout",
     "output_type": "stream",
     "text": [
      "Model: \"sequential_7\"\n",
      "_________________________________________________________________\n",
      " Layer (type)                Output Shape              Param #   \n",
      "=================================================================\n",
      " hidden_layer_0 (Dense)      (None, 60)                1800      \n",
      "                                                                 \n",
      " hidden_layer_1 (Dense)      (None, 60)                3660      \n",
      "                                                                 \n",
      " hidden_layer_2 (Dense)      (None, 60)                3660      \n",
      "                                                                 \n",
      " hidden_layer_3 (Dense)      (None, 60)                3660      \n",
      "                                                                 \n",
      " hidden_layer_-3 (Dense)     (None, 50)                3050      \n",
      "                                                                 \n",
      " hidden_layer_-2 (Dense)     (None, 50)                2550      \n",
      "                                                                 \n",
      " output_layer (Dense)        (None, 4)                 204       \n",
      "                                                                 \n",
      "=================================================================\n",
      "Total params: 18,584\n",
      "Trainable params: 18,584\n",
      "Non-trainable params: 0\n",
      "_________________________________________________________________\n"
     ]
    }
   ],
   "source": [
    "'create the neural Network'\n",
    "initializer = tf.keras.initializers.HeNormal(seed=3)\n",
    "model = keras.Sequential()\n",
    "#Input Layer\n",
    "model.add(keras.Input(shape=(29,)))\n",
    "\n",
    "for i in range(4):\n",
    "    model.add(layers.Dense(60,activation=\"relu\",name=f\"hidden_layer_{i}\",kernel_initializer=initializer))\n",
    "\n",
    "model.add(layers.Dense(50,activation=\"relu\",name=f\"hidden_layer_-3\",kernel_initializer=initializer))\n",
    "model.add(layers.Dense(50,activation=\"relu\",name=f\"hidden_layer_-2\",kernel_initializer=initializer))\n",
    "#Output Layer\n",
    "model.add(layers.Dense(4,activation=\"softmax\",name=\"output_layer\"))\n",
    "\n",
    "model.summary()"
   ]
  },
  {
   "cell_type": "code",
   "execution_count": 65,
   "metadata": {},
   "outputs": [],
   "source": [
    "# before we train the model, we need to compile it\n",
    "model.compile(optimizer=\"adam\",\n",
    "              loss=tf.keras.losses.SparseCategoricalCrossentropy(), # this loss function fits for 2 or more categorial labels, \n",
    "              metrics=['accuracy',\"sparse_categorical_crossentropy\",\"mean_squared_error\"])\n",
    "\n"
   ]
  },
  {
   "cell_type": "code",
   "execution_count": 66,
   "metadata": {},
   "outputs": [
    {
     "name": "stdout",
     "output_type": "stream",
     "text": [
      "Epoch 1/60\n",
      "121/121 [==============================] - 6s 31ms/step - loss: 0.8989 - accuracy: 0.6439 - sparse_categorical_crossentropy: 0.8989 - mean_squared_error: 1.8348\n",
      "Epoch 2/60\n",
      "121/121 [==============================] - 5s 41ms/step - loss: 0.6342 - accuracy: 0.7233 - sparse_categorical_crossentropy: 0.6342 - mean_squared_error: 1.8652\n",
      "Epoch 3/60\n",
      "121/121 [==============================] - 5s 43ms/step - loss: 0.5825 - accuracy: 0.7430 - sparse_categorical_crossentropy: 0.5825 - mean_squared_error: 1.8734\n",
      "Epoch 4/60\n",
      "121/121 [==============================] - 4s 36ms/step - loss: 0.5494 - accuracy: 0.7458 - sparse_categorical_crossentropy: 0.5494 - mean_squared_error: 1.8757\n",
      "Epoch 5/60\n",
      "121/121 [==============================] - 5s 40ms/step - loss: 0.5330 - accuracy: 0.7543 - sparse_categorical_crossentropy: 0.5330 - mean_squared_error: 1.8813\n",
      "Epoch 6/60\n",
      "121/121 [==============================] - 4s 31ms/step - loss: 0.5322 - accuracy: 0.7512 - sparse_categorical_crossentropy: 0.5322 - mean_squared_error: 1.8815\n",
      "Epoch 7/60\n",
      "121/121 [==============================] - 4s 31ms/step - loss: 0.5134 - accuracy: 0.7623 - sparse_categorical_crossentropy: 0.5134 - mean_squared_error: 1.8818\n",
      "Epoch 8/60\n",
      "121/121 [==============================] - 3s 28ms/step - loss: 0.5001 - accuracy: 0.7745 - sparse_categorical_crossentropy: 0.5001 - mean_squared_error: 1.8839\n",
      "Epoch 9/60\n",
      "121/121 [==============================] - 4s 29ms/step - loss: 0.5080 - accuracy: 0.7631 - sparse_categorical_crossentropy: 0.5080 - mean_squared_error: 1.8851\n",
      "Epoch 10/60\n",
      "121/121 [==============================] - 5s 39ms/step - loss: 0.4942 - accuracy: 0.7722 - sparse_categorical_crossentropy: 0.4942 - mean_squared_error: 1.8851\n",
      "Epoch 11/60\n",
      "121/121 [==============================] - 5s 40ms/step - loss: 0.4844 - accuracy: 0.7836 - sparse_categorical_crossentropy: 0.4844 - mean_squared_error: 1.8867\n",
      "Epoch 12/60\n",
      "121/121 [==============================] - 5s 43ms/step - loss: 0.4805 - accuracy: 0.7804 - sparse_categorical_crossentropy: 0.4805 - mean_squared_error: 1.8884\n",
      "Epoch 13/60\n",
      "121/121 [==============================] - 4s 31ms/step - loss: 0.4731 - accuracy: 0.7911 - sparse_categorical_crossentropy: 0.4731 - mean_squared_error: 1.8903\n",
      "Epoch 14/60\n",
      "121/121 [==============================] - 3s 24ms/step - loss: 0.4727 - accuracy: 0.7848 - sparse_categorical_crossentropy: 0.4727 - mean_squared_error: 1.8890\n",
      "Epoch 15/60\n",
      "121/121 [==============================] - 4s 32ms/step - loss: 0.4723 - accuracy: 0.7838 - sparse_categorical_crossentropy: 0.4723 - mean_squared_error: 1.8887\n",
      "Epoch 16/60\n",
      "121/121 [==============================] - 4s 30ms/step - loss: 0.4576 - accuracy: 0.7892 - sparse_categorical_crossentropy: 0.4576 - mean_squared_error: 1.8903\n",
      "Epoch 17/60\n",
      "121/121 [==============================] - 3s 25ms/step - loss: 0.4529 - accuracy: 0.7944 - sparse_categorical_crossentropy: 0.4529 - mean_squared_error: 1.8912\n",
      "Epoch 18/60\n",
      "121/121 [==============================] - 4s 30ms/step - loss: 0.4522 - accuracy: 0.7895 - sparse_categorical_crossentropy: 0.4522 - mean_squared_error: 1.8911\n",
      "Epoch 19/60\n",
      "121/121 [==============================] - 4s 36ms/step - loss: 0.4422 - accuracy: 0.7978 - sparse_categorical_crossentropy: 0.4422 - mean_squared_error: 1.8935\n",
      "Epoch 20/60\n",
      "121/121 [==============================] - 4s 33ms/step - loss: 0.4480 - accuracy: 0.7887 - sparse_categorical_crossentropy: 0.4480 - mean_squared_error: 1.8925\n",
      "Epoch 21/60\n",
      "121/121 [==============================] - 6s 47ms/step - loss: 0.4556 - accuracy: 0.7887 - sparse_categorical_crossentropy: 0.4556 - mean_squared_error: 1.8930\n",
      "Epoch 22/60\n",
      "121/121 [==============================] - 4s 35ms/step - loss: 0.4426 - accuracy: 0.8004 - sparse_categorical_crossentropy: 0.4426 - mean_squared_error: 1.8923\n",
      "Epoch 23/60\n",
      "121/121 [==============================] - 5s 45ms/step - loss: 0.4398 - accuracy: 0.8017 - sparse_categorical_crossentropy: 0.4398 - mean_squared_error: 1.8941\n",
      "Epoch 24/60\n",
      "121/121 [==============================] - 5s 40ms/step - loss: 0.4318 - accuracy: 0.8017 - sparse_categorical_crossentropy: 0.4318 - mean_squared_error: 1.8938\n",
      "Epoch 25/60\n",
      "121/121 [==============================] - 5s 38ms/step - loss: 0.4172 - accuracy: 0.8079 - sparse_categorical_crossentropy: 0.4172 - mean_squared_error: 1.8960\n",
      "Epoch 26/60\n",
      "121/121 [==============================] - 5s 41ms/step - loss: 0.4217 - accuracy: 0.8120 - sparse_categorical_crossentropy: 0.4217 - mean_squared_error: 1.8959\n",
      "Epoch 27/60\n",
      "121/121 [==============================] - 6s 46ms/step - loss: 0.4182 - accuracy: 0.8040 - sparse_categorical_crossentropy: 0.4182 - mean_squared_error: 1.8973\n",
      "Epoch 28/60\n",
      "121/121 [==============================] - 4s 36ms/step - loss: 0.4169 - accuracy: 0.8084 - sparse_categorical_crossentropy: 0.4169 - mean_squared_error: 1.8973\n",
      "Epoch 29/60\n",
      "121/121 [==============================] - 5s 43ms/step - loss: 0.4135 - accuracy: 0.8141 - sparse_categorical_crossentropy: 0.4135 - mean_squared_error: 1.8969\n",
      "Epoch 30/60\n",
      "121/121 [==============================] - 5s 43ms/step - loss: 0.4029 - accuracy: 0.8182 - sparse_categorical_crossentropy: 0.4029 - mean_squared_error: 1.8990\n",
      "Epoch 31/60\n",
      "121/121 [==============================] - 6s 49ms/step - loss: 0.4067 - accuracy: 0.8120 - sparse_categorical_crossentropy: 0.4067 - mean_squared_error: 1.8985\n",
      "Epoch 32/60\n",
      "121/121 [==============================] - 5s 37ms/step - loss: 0.3939 - accuracy: 0.8195 - sparse_categorical_crossentropy: 0.3939 - mean_squared_error: 1.9004\n",
      "Epoch 33/60\n",
      "121/121 [==============================] - 5s 41ms/step - loss: 0.4028 - accuracy: 0.8169 - sparse_categorical_crossentropy: 0.4028 - mean_squared_error: 1.8993\n",
      "Epoch 34/60\n",
      "121/121 [==============================] - 7s 62ms/step - loss: 0.4015 - accuracy: 0.8190 - sparse_categorical_crossentropy: 0.4015 - mean_squared_error: 1.8999\n",
      "Epoch 35/60\n",
      "121/121 [==============================] - 7s 54ms/step - loss: 0.3879 - accuracy: 0.8221 - sparse_categorical_crossentropy: 0.3879 - mean_squared_error: 1.9011\n",
      "Epoch 36/60\n",
      "121/121 [==============================] - 8s 64ms/step - loss: 0.3803 - accuracy: 0.8311 - sparse_categorical_crossentropy: 0.3803 - mean_squared_error: 1.9015\n",
      "Epoch 37/60\n",
      "121/121 [==============================] - 7s 58ms/step - loss: 0.3780 - accuracy: 0.8322 - sparse_categorical_crossentropy: 0.3780 - mean_squared_error: 1.9025\n",
      "Epoch 38/60\n",
      "121/121 [==============================] - 8s 63ms/step - loss: 0.3801 - accuracy: 0.8296 - sparse_categorical_crossentropy: 0.3801 - mean_squared_error: 1.9025\n",
      "Epoch 39/60\n",
      "121/121 [==============================] - 6s 46ms/step - loss: 0.3715 - accuracy: 0.8335 - sparse_categorical_crossentropy: 0.3715 - mean_squared_error: 1.9032\n",
      "Epoch 40/60\n",
      "121/121 [==============================] - 6s 47ms/step - loss: 0.3713 - accuracy: 0.8350 - sparse_categorical_crossentropy: 0.3713 - mean_squared_error: 1.9035\n",
      "Epoch 41/60\n",
      "121/121 [==============================] - 7s 61ms/step - loss: 0.3750 - accuracy: 0.8254 - sparse_categorical_crossentropy: 0.3750 - mean_squared_error: 1.9038\n",
      "Epoch 42/60\n",
      "121/121 [==============================] - 8s 62ms/step - loss: 0.3695 - accuracy: 0.8360 - sparse_categorical_crossentropy: 0.3695 - mean_squared_error: 1.9038\n",
      "Epoch 43/60\n",
      "121/121 [==============================] - 6s 47ms/step - loss: 0.3710 - accuracy: 0.8329 - sparse_categorical_crossentropy: 0.3710 - mean_squared_error: 1.9045\n",
      "Epoch 44/60\n",
      "121/121 [==============================] - 5s 42ms/step - loss: 0.3622 - accuracy: 0.8363 - sparse_categorical_crossentropy: 0.3622 - mean_squared_error: 1.9048\n",
      "Epoch 45/60\n",
      "121/121 [==============================] - 7s 54ms/step - loss: 0.3534 - accuracy: 0.8392 - sparse_categorical_crossentropy: 0.3534 - mean_squared_error: 1.9060\n",
      "Epoch 46/60\n",
      "121/121 [==============================] - 6s 46ms/step - loss: 0.3506 - accuracy: 0.8443 - sparse_categorical_crossentropy: 0.3506 - mean_squared_error: 1.9058\n",
      "Epoch 47/60\n",
      "121/121 [==============================] - 5s 45ms/step - loss: 0.3605 - accuracy: 0.8368 - sparse_categorical_crossentropy: 0.3605 - mean_squared_error: 1.9068\n",
      "Epoch 48/60\n",
      "121/121 [==============================] - 4s 30ms/step - loss: 0.3567 - accuracy: 0.8355 - sparse_categorical_crossentropy: 0.3567 - mean_squared_error: 1.9056\n",
      "Epoch 49/60\n",
      "121/121 [==============================] - 5s 39ms/step - loss: 0.3552 - accuracy: 0.8350 - sparse_categorical_crossentropy: 0.3552 - mean_squared_error: 1.9068\n",
      "Epoch 50/60\n",
      "121/121 [==============================] - 5s 38ms/step - loss: 0.3342 - accuracy: 0.8461 - sparse_categorical_crossentropy: 0.3342 - mean_squared_error: 1.9086\n",
      "Epoch 51/60\n",
      "121/121 [==============================] - 6s 49ms/step - loss: 0.3449 - accuracy: 0.8430 - sparse_categorical_crossentropy: 0.3449 - mean_squared_error: 1.9073\n",
      "Epoch 52/60\n",
      "121/121 [==============================] - 5s 45ms/step - loss: 0.3372 - accuracy: 0.8487 - sparse_categorical_crossentropy: 0.3372 - mean_squared_error: 1.9089\n",
      "Epoch 53/60\n",
      "121/121 [==============================] - 5s 41ms/step - loss: 0.3255 - accuracy: 0.8552 - sparse_categorical_crossentropy: 0.3255 - mean_squared_error: 1.9094\n",
      "Epoch 54/60\n",
      "121/121 [==============================] - 5s 42ms/step - loss: 0.3078 - accuracy: 0.8648 - sparse_categorical_crossentropy: 0.3078 - mean_squared_error: 1.9113\n",
      "Epoch 55/60\n",
      "121/121 [==============================] - 5s 41ms/step - loss: 0.3236 - accuracy: 0.8461 - sparse_categorical_crossentropy: 0.3236 - mean_squared_error: 1.9114\n",
      "Epoch 56/60\n",
      "121/121 [==============================] - 5s 40ms/step - loss: 0.3219 - accuracy: 0.8593 - sparse_categorical_crossentropy: 0.3219 - mean_squared_error: 1.9123\n",
      "Epoch 57/60\n",
      "121/121 [==============================] - 5s 38ms/step - loss: 0.3104 - accuracy: 0.8627 - sparse_categorical_crossentropy: 0.3104 - mean_squared_error: 1.9111\n",
      "Epoch 58/60\n",
      "121/121 [==============================] - 5s 42ms/step - loss: 0.3017 - accuracy: 0.8658 - sparse_categorical_crossentropy: 0.3017 - mean_squared_error: 1.9133\n",
      "Epoch 59/60\n",
      "121/121 [==============================] - 4s 33ms/step - loss: 0.3031 - accuracy: 0.8611 - sparse_categorical_crossentropy: 0.3031 - mean_squared_error: 1.9138\n",
      "Epoch 60/60\n",
      "121/121 [==============================] - 3s 25ms/step - loss: 0.2967 - accuracy: 0.8717 - sparse_categorical_crossentropy: 0.2967 - mean_squared_error: 1.9125\n"
     ]
    }
   ],
   "source": [
    "'Train the model'\n",
    "hist=model.fit(X_train, y_train, epochs=60,use_multiprocessing=True,batch_size=32)"
   ]
  },
  {
   "cell_type": "code",
   "execution_count": 68,
   "metadata": {},
   "outputs": [
    {
     "name": "stdout",
     "output_type": "stream",
     "text": [
      "INFO:tensorflow:Assets written to: keras_models/model_no2_epochs60_params18500/assets\n"
     ]
    }
   ],
   "source": [
    "'Save the model'\n",
    "name=\"model_no2_epochs60_params18500\"\n",
    "model.save(f\"keras_models/{name}\")"
   ]
  },
  {
   "cell_type": "code",
   "execution_count": 77,
   "metadata": {},
   "outputs": [
    {
     "name": "stdout",
     "output_type": "stream",
     "text": [
      "41/41 [==============================] - 1s 25ms/step\n",
      "Test Score of the Models\n",
      "score of the model: 0.73701\n",
      "balanced score of the model: 0.6243\n",
      "f1 score of the model: 0.72675\n"
     ]
    },
    {
     "data": {
      "text/plain": [
       "<sklearn.metrics._plot.confusion_matrix.ConfusionMatrixDisplay at 0x7f9414586740>"
      ]
     },
     "execution_count": 77,
     "metadata": {},
     "output_type": "execute_result"
    },
    {
     "data": {
      "image/png": "[encoded data removed]",
      "text/plain": [
       "<Figure size 640x480 with 2 Axes>"
      ]
     },
     "metadata": {},
     "output_type": "display_data"
    }
   ],
   "source": [
    "'Evaluate model with test data'\n",
    "y_predict=model.predict(X_test).argmax(axis=1)\n",
    "y_predict_cat=pd.Series(y_predict).map(aqi_labels)\n",
    "y_test_cat=pd.Series(y_test).map(aqi_labels)\n",
    "\n",
    "'Test Score'\n",
    "print(\"Test Score of the Models\")\n",
    "accuracy_test=metrics.accuracy_score(y_test,y_predict)\n",
    "print(f\"score of the model: {round(accuracy_test,5)}\")\n",
    "balanced_accuracy_test=metrics.balanced_accuracy_score(y_test,y_predict)\n",
    "print(f\"balanced score of the model: {round(balanced_accuracy_test,5)}\")\n",
    "f1_test=metrics.f1_score(y_test,y_predict,average=\"weighted\")\n",
    "print(f\"f1 score of the model: {round(f1_test,5)}\")\n",
    "\n",
    "cm=metrics.confusion_matrix(y_true=y_test_cat,y_pred=y_predict_cat,labels=list(aqi_labels.values()),normalize=\"true\")\n",
    "disp = metrics.ConfusionMatrixDisplay(cm,display_labels=list(aqi_labels.values()))\n",
    "\n",
    "disp.plot()"
   ]
  },
  {
   "cell_type": "code",
   "execution_count": 80,
   "metadata": {},
   "outputs": [
    {
     "data": {
      "text/plain": [
       "Text(0.5, 1.0, 'Verlauf der Metriken nach jedem Traininsschritt')"
      ]
     },
     "execution_count": 80,
     "metadata": {},
     "output_type": "execute_result"
    },
    {
     "data": {
      "image/png": "[encoded data removed]",
      "text/plain": [
       "<Figure size 640x480 with 1 Axes>"
      ]
     },
     "metadata": {},
     "output_type": "display_data"
    }
   ],
   "source": [
    "'Verlauf der Metriken nach jedem Traininsschritt'\n",
    "plt.plot(hist.history[\"sparse_categorical_crossentropy\"],label=\"crossentropy\")\n",
    "plt.plot(hist.history[\"accuracy\"],label=\"accuracy\")\n",
    "plt.legend()\n",
    "plt.xlabel(\"Epoch\")\n",
    "plt.title(\"Verlauf der Metriken nach jedem Traininsschritt\")"
   ]
  },
  {
   "attachments": {},
   "cell_type": "markdown",
   "metadata": {},
   "source": [
    "Schlussendlich überzeugt hier in diesem Beispiel die Performance des neuronalen Netzes wenig im Vergleich zum GBC von AQI_NO2: \n",
    "- Training dauert länger\n",
    "- f1_score und score sind schlechter\n",
    "- auch mehr Training ändert daran wenig -> führt dann nur zu Overfitting\n",
    "- ebenso wie mehr Layer (also mehr Parameter)\n",
    "Allerdings wurde hier auch keine Suche nach den besten Hyperparametern des Modells gemacht und mit den Parametern des neuronalen Netzes kennen ich mich nur sehr wenig aus. "
   ]
  }
 ],
 "metadata": {
  "kernelspec": {
   "display_name": "datascience_env",
   "language": "python",
   "name": "python3"
  },
  "language_info": {
   "codemirror_mode": {
    "name": "ipython",
    "version": 3
   },
   "file_extension": ".py",
   "mimetype": "text/x-python",
   "name": "python",
   "nbconvert_exporter": "python",
   "pygments_lexer": "ipython3",
   "version": "3.10.8"
  },
  "orig_nbformat": 4,
  "vscode": {
   "interpreter": {
    "hash": "b517bc09ca3e5b2d142caefc775ac36c20e1e828ca41527de4fb544cbf1d80bd"
   }
  }
 },
 "nbformat": 4,
 "nbformat_minor": 2
}
