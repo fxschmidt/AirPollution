{
 "cells": [
  {
   "cell_type": "code",
   "execution_count": 34,
   "metadata": {},
   "outputs": [],
   "source": [
    "# Import Libraries\n",
    "import pandas as pd\n",
    "import numpy as np\n",
    "import matplotlib.pyplot as plt\n",
    "import seaborn as sns\n",
    "from sklearn.model_selection import train_test_split\n",
    "from sklearn.linear_model import LinearRegression\n",
    "from sklearn.preprocessing import StandardScaler\n"
   ]
  },
  {
   "cell_type": "code",
   "execution_count": 6,
   "metadata": {},
   "outputs": [
    {
     "name": "stdout",
     "output_type": "stream",
     "text": [
      "<class 'pandas.core.frame.DataFrame'>\n",
      "DatetimeIndex: 3924 entries, 2010-01-01 to 2022-09-30\n",
      "Data columns (total 19 columns):\n",
      " #   Column         Non-Null Count  Dtype   \n",
      "---  ------         --------------  -----   \n",
      " 0   mean_co        3914 non-null   float64 \n",
      " 1   max_value_co   3914 non-null   float64 \n",
      " 2   max_hour_co    3914 non-null   float64 \n",
      " 3   mean_so2       3566 non-null   float64 \n",
      " 4   max_value_so2  3566 non-null   float64 \n",
      " 5   max_hour_so2   3566 non-null   float64 \n",
      " 6   mean_no2       3630 non-null   float64 \n",
      " 7   max_value_no2  3630 non-null   float64 \n",
      " 8   max_hour_no2   3630 non-null   float64 \n",
      " 9   mean_o3        3777 non-null   float64 \n",
      " 10  max_value_o3   3777 non-null   float64 \n",
      " 11  max_hour_o3    3777 non-null   float64 \n",
      " 12  mean_pm2_5     3414 non-null   float64 \n",
      " 13  aqi_pm2_5      3414 non-null   category\n",
      " 14  aqi_so2        3566 non-null   category\n",
      " 15  aqi_no2        3630 non-null   category\n",
      " 16  aqi_o3         3777 non-null   category\n",
      " 17  aqi_idxmax     3918 non-null   object  \n",
      " 18  aqi_max        3869 non-null   category\n",
      "dtypes: category(5), float64(13), object(1)\n",
      "memory usage: 480.1+ KB\n"
     ]
    }
   ],
   "source": [
    "'HDF ist ein deutlich besseres Format als csv/txt/... -> Dateitypen + Index bleibt erhalten '\n",
    "pollution = pd.read_hdf(\"Pollution_Data/pollutant_data.h5\")\n",
    "predictor = pd.read_hdf(\"Predictor_Data/all.h5\")\n",
    "#predictor.info()\n",
    "pollution.info()"
   ]
  },
  {
   "cell_type": "code",
   "execution_count": 7,
   "metadata": {},
   "outputs": [
    {
     "data": {
      "text/plain": [
       "Index(['mean_co', 'max_value_co', 'max_hour_co', 'mean_so2', 'max_value_so2',\n",
       "       'max_hour_so2', 'mean_no2', 'max_value_no2', 'max_hour_no2', 'mean_o3',\n",
       "       'max_value_o3', 'max_hour_o3', 'mean_pm2_5', 'aqi_pm2_5', 'aqi_so2',\n",
       "       'aqi_no2', 'aqi_o3', 'aqi_idxmax', 'aqi_max'],\n",
       "      dtype='object')"
      ]
     },
     "execution_count": 7,
     "metadata": {},
     "output_type": "execute_result"
    }
   ],
   "source": [
    "pollution.columns"
   ]
  },
  {
   "cell_type": "code",
   "execution_count": 16,
   "metadata": {},
   "outputs": [
    {
     "data": {
      "text/plain": [
       "Index([     'mean_wind_speed', 'max_value_wind_speed',  'max_hour_wind_speed',\n",
       "                  'mean_temp',       'max_value_temp',        'max_hour_temp',\n",
       "              'mean_humidity',   'max_value_humidity',    'max_hour_humidity',\n",
       "             'mean_radiation',  'max_value_radiation',   'max_hour_radiation',\n",
       "              'mean_pressure',   'max_value_pressure',    'max_hour_pressure',\n",
       "                       'rain',                't_max',                't_min',\n",
       "                   't_minmax',              'quarter',         'business_day',\n",
       "                            1,                      2,                      3,\n",
       "                            4,                'north',                'south',\n",
       "                       'east',                 'west',              'mean_co',\n",
       "               'max_value_co',             'mean_so2',        'max_value_so2',\n",
       "                   'mean_no2',        'max_value_no2',              'mean_o3',\n",
       "               'max_value_o3',           'mean_pm2_5',            'aqi_pm2_5',\n",
       "                    'aqi_so2',              'aqi_no2',               'aqi_o3'],\n",
       "      dtype='object')"
      ]
     },
     "execution_count": 16,
     "metadata": {},
     "output_type": "execute_result"
    }
   ],
   "source": [
    "#nur numerische Columns (ohne wind_direction da in Grad, ohne UV_radiation da sehr ähnlich zu radiation)\n",
    "# auch ohne elektricity denn dadurch mehr Daten\n",
    "numeric_columns=['mean_wind_speed', 'max_value_wind_speed', 'max_hour_wind_speed', 'mean_temp', 'max_value_temp',\n",
    "       'max_hour_temp', 'mean_humidity', 'max_value_humidity',\n",
    "       'max_hour_humidity', 'mean_radiation', 'max_value_radiation',\n",
    "       'max_hour_radiation', \n",
    "        'mean_pressure', 'max_value_pressure',\n",
    "       'max_hour_pressure', 'rain', 't_max', 't_min', 't_minmax',\n",
    "        'quarter',  'business_day']\n",
    "\n",
    "quarter_dummi= pd.get_dummies(predictor[\"quarter\"])\n",
    "wind_dummi= pd.get_dummies(predictor[\"mean_wind_direction\"])\n",
    "predict_today=predictor[numeric_columns]\n",
    "predict_today = predict_today.join(quarter_dummi)\n",
    "predict_today = predict_today.join(wind_dummi)\n",
    "\n",
    "# hinzufügen der Schadstoff Werte (ohne max_hour)\n",
    "predict_today = predict_today.join(pollution.drop(['max_hour_co', 'max_hour_so2',\n",
    "                                                   'max_hour_no2','max_hour_o3',\"aqi_idxmax\",\"aqi_max\"],axis=1))\n",
    "\n",
    "predict_today=predict_today.dropna()\n",
    "predict_today.columns"
   ]
  },
  {
   "cell_type": "code",
   "execution_count": null,
   "metadata": {},
   "outputs": [],
   "source": []
  },
  {
   "cell_type": "code",
   "execution_count": 17,
   "metadata": {},
   "outputs": [],
   "source": [
    "predict_column=\"max_value_o3\"\n",
    "#vorher Standartisieren\n",
    "st_scaler=StandardScaler()\n",
    "\n",
    "\n",
    "hier standartisieren \n",
    "\n",
    "\n",
    "X_train , X_test , y_train , y_test = train_test_split(predict_today.drop(['aqi_pm2_5','aqi_so2',\n",
    "                                                                           'aqi_no2','aqi_o3',predict_column],axis=1),\n",
    "                                                       predict_today[predict_column])\n",
    "\n"
   ]
  },
  {
   "cell_type": "code",
   "execution_count": 33,
   "metadata": {},
   "outputs": [
    {
     "name": "stdout",
     "output_type": "stream",
     "text": [
      "Score of the model: 0.8709943887214691\n"
     ]
    },
    {
     "data": {
      "image/png": "[encoded data removed]",
      "text/plain": [
       "<Figure size 720x720 with 1 Axes>"
      ]
     },
     "metadata": {
      "needs_background": "light"
     },
     "output_type": "display_data"
    }
   ],
   "source": [
    "#einfachstes Modell -> linear\n",
    "\n",
    "\n",
    "lin_reg=LinearRegression()\n",
    "lin_reg.fit(X_train,y_train)\n",
    "score= lin_reg.score(X_test,y_test)\n",
    "print(f\"Score of the model: {score}\")\n",
    "\n",
    "fig_coef, ax_coef = plt.subplots(1,1,figsize=(10,10))\n",
    "ax_coef = sns.barplot(y=X_train.columns,x=lin_reg.coef_,orient=\"h\")"
   ]
  },
  {
   "cell_type": "code",
   "execution_count": 25,
   "metadata": {},
   "outputs": [
    {
     "data": {
      "text/plain": [
       "array([-4.79833454e+00,  1.42917499e+00, -1.03450678e-01,  1.34994978e+00,\n",
       "        2.39334794e+00, -1.19931047e-01,  1.01115990e-01,  1.22982429e-01,\n",
       "       -2.36341894e-02,  4.99993142e+01, -7.48767588e+00,  7.73857211e-01,\n",
       "       -6.14335452e-01,  7.52685142e-01,  3.29087515e-02,  2.31306862e-01,\n",
       "       -9.34535289e-01, -1.37140326e+00,  4.36867966e-01,  4.87057780e-01,\n",
       "       -6.30242619e+00,  3.04908162e+00, -4.85132296e+00,  6.83432884e-02,\n",
       "        1.73389805e+00,  4.80149254e-12,  3.86467088e+00,  3.60702052e+00,\n",
       "        3.62581023e+00, -2.21290291e-02,  7.73645059e-03, -7.65124707e-01,\n",
       "       -1.94456272e-02,  5.72389037e-01,  1.08121318e-01,  1.36496883e+00,\n",
       "        9.07171256e-02])"
      ]
     },
     "execution_count": 25,
     "metadata": {},
     "output_type": "execute_result"
    }
   ],
   "source": [
    "lin_reg.coef_"
   ]
  }
 ],
 "metadata": {
  "kernelspec": {
   "display_name": "base",
   "language": "python",
   "name": "python3"
  },
  "language_info": {
   "codemirror_mode": {
    "name": "ipython",
    "version": 3
   },
   "file_extension": ".py",
   "mimetype": "text/x-python",
   "name": "python",
   "nbconvert_exporter": "python",
   "pygments_lexer": "ipython3",
   "version": "3.9.7"
  },
  "orig_nbformat": 4,
  "vscode": {
   "interpreter": {
    "hash": "bf6434c5a1aa7c8e434dd054297a02391e6efb1cc4c519f6d78eae818bb65a96"
   }
  }
 },
 "nbformat": 4,
 "nbformat_minor": 2
}
